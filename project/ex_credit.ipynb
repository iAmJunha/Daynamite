{
 "cells": [
  {
   "cell_type": "markdown",
   "metadata": {},
   "source": [
    "### 크레딧 카드 사용 기록"
   ]
  },
  {
   "cell_type": "markdown",
   "metadata": {},
   "source": [
    "#### 필요한 패키지를 불러온다"
   ]
  },
  {
   "cell_type": "code",
   "execution_count": 1,
   "metadata": {},
   "outputs": [],
   "source": [
    "import numpy as np\n",
    "import pandas as pd\n",
    "import seaborn as sns\n",
    "import matplotlib.pyplot as plt\n",
    "import os\n",
    "import warnings\n",
    "warnings.filterwarnings('ignore')\n",
    "%matplotlib inline"
   ]
  },
  {
   "cell_type": "markdown",
   "metadata": {},
   "source": [
    "#### 데이터를 불러와서 살펴 본다"
   ]
  },
  {
   "cell_type": "code",
   "execution_count": null,
   "metadata": {},
   "outputs": [],
   "source": [
    "os.chdir(r\"C:\\Users\\sycha\\Documents\\교육사업\\데이터 2019\\핀인테크\\20190722_아시아 경제\\data\")\n",
    "df = pd.read_csv('data_credit.csv', header='infer',encoding='latin1')"
   ]
  },
  {
   "cell_type": "code",
   "execution_count": null,
   "metadata": {},
   "outputs": [],
   "source": [
    "df.shape"
   ]
  },
  {
   "cell_type": "code",
   "execution_count": null,
   "metadata": {},
   "outputs": [],
   "source": [
    "df.head(5)"
   ]
  },
  {
   "cell_type": "markdown",
   "metadata": {},
   "source": [
    "#### 데이터를 클리닝하고 결측치 처리를 한다"
   ]
  },
  {
   "cell_type": "code",
   "execution_count": null,
   "metadata": {},
   "outputs": [],
   "source": [
    "# 결측치가 분명히 있는 것 같으니 컬럼별 집계해 본다.\n",
    "nas = df.isnull()\n",
    "print(nas.sum(axis=0))"
   ]
  },
  {
   "cell_type": "code",
   "execution_count": null,
   "metadata": {},
   "outputs": [],
   "source": [
    "# installments 변수의 도수분포를 본다.\n",
    "df['installments'].value_counts()"
   ]
  },
  {
   "cell_type": "code",
   "execution_count": null,
   "metadata": {},
   "outputs": [],
   "source": [
    "# 일시불이 NA로 처리 되었으니 결측치를 1로 채운다.\n",
    "df = df.fillna(value=1)\n",
    "df.head(5)"
   ]
  },
  {
   "cell_type": "code",
   "execution_count": null,
   "metadata": {},
   "outputs": [],
   "source": [
    "# 다시 installments 변수의 도수분포를 본다.\n",
    "df['installments'].value_counts()"
   ]
  },
  {
   "cell_type": "code",
   "execution_count": null,
   "metadata": {},
   "outputs": [],
   "source": [
    "# 일단 date와 time은 사용하지 않겠으니 제거한다\n",
    "df = df.drop(columns=['date','time'])\n",
    "df.head(5)"
   ]
  },
  {
   "cell_type": "markdown",
   "metadata": {},
   "source": [
    "#### 개개 변수를 다양한 방법으로 요약하고 시각화 한다"
   ]
  },
  {
   "cell_type": "code",
   "execution_count": null,
   "metadata": {},
   "outputs": [],
   "source": [
    "#\n",
    "# store_id의 도수의 히스토그램.\n",
    "#\n",
    "freq1 = df['store_id'].value_counts()\n",
    "sns.distplot(freq1.values,bins=50)\n",
    "plt.show()"
   ]
  },
  {
   "cell_type": "code",
   "execution_count": null,
   "metadata": {},
   "outputs": [],
   "source": [
    "# 큰 skew를 보이므로 log 변환해 본다.\n",
    "freq1b = np.log(freq1+1)\n",
    "sns.distplot(freq1b.values,bins=30)\n",
    "plt.show()"
   ]
  },
  {
   "cell_type": "code",
   "execution_count": null,
   "metadata": {},
   "outputs": [],
   "source": [
    "print(np.median(freq1))"
   ]
  },
  {
   "cell_type": "code",
   "execution_count": null,
   "metadata": {},
   "outputs": [],
   "source": [
    "# Top sore id를 본다.\n",
    "freq1.sort_values(ascending=False)[:10]"
   ]
  },
  {
   "cell_type": "code",
   "execution_count": null,
   "metadata": {},
   "outputs": [],
   "source": [
    "#\n",
    "# card_id의 도수의 히스토그램.\n",
    "#\n",
    "freq2 = df['card_id'].value_counts()\n",
    "sns.distplot(freq2.values,bins=50,color=\"green\")\n",
    "plt.show()"
   ]
  },
  {
   "cell_type": "code",
   "execution_count": null,
   "metadata": {},
   "outputs": [],
   "source": [
    "# 큰 skew를 보이므로 log 변환해 본다.\n",
    "freq2b = np.log(freq2+1)\n",
    "sns.distplot(freq2b.values,bins=20,color=\"green\",kde=False)\n",
    "plt.show()"
   ]
  },
  {
   "cell_type": "code",
   "execution_count": null,
   "metadata": {},
   "outputs": [],
   "source": [
    "# Top 10 card id를 본다.\n",
    "freq2.sort_values(ascending=False)[:10]"
   ]
  },
  {
   "cell_type": "code",
   "execution_count": null,
   "metadata": {},
   "outputs": [],
   "source": [
    "#\n",
    "# amount의 히스토그램.\n",
    "# \n",
    "sns.distplot(df.amount,bins=10,kde=False)\n",
    "plt.show()"
   ]
  },
  {
   "cell_type": "code",
   "execution_count": null,
   "metadata": {},
   "outputs": [],
   "source": [
    "#\n",
    "# 실제 구매 or Cancel.\n",
    "#\n",
    "ser = df.amount > 0\n",
    "np.round(ser.mean(),4)             # 실제 구매의 퍼센티지."
   ]
  },
  {
   "cell_type": "code",
   "execution_count": null,
   "metadata": {},
   "outputs": [],
   "source": [
    "#\n",
    "# installments의 막대그림.\n",
    "# \n",
    "freq3 = df['installments'].value_counts()\n",
    "print(\"installments의 가짓수 = {}\".format((freq3.index).nunique()))"
   ]
  },
  {
   "cell_type": "code",
   "execution_count": null,
   "metadata": {},
   "outputs": [],
   "source": [
    "# Seaborn의 countplot이 집계하여 보여준다.\n",
    "sns.countplot(data=df, x='installments')\n",
    "plt.show()"
   ]
  },
  {
   "cell_type": "code",
   "execution_count": null,
   "metadata": {},
   "outputs": [],
   "source": [
    "# 1이 너무나 많으니 제거하고 다시 시각화 해본다.\n",
    "sns.countplot(data=df[df.installments != 1], x='installments')\n",
    "plt.show()"
   ]
  },
  {
   "cell_type": "code",
   "execution_count": null,
   "metadata": {},
   "outputs": [],
   "source": [
    "#\n",
    "# days_of_week의 횟수 막대그림.\n",
    "# \n",
    "freq4 = df['days_of_week'].value_counts()\n",
    "print(\"days of week의 가짓수 = {}\".format((freq4.index).nunique()))"
   ]
  },
  {
   "cell_type": "code",
   "execution_count": null,
   "metadata": {},
   "outputs": [],
   "source": [
    "# Seaborn의 countplot이 집계하여 보여준다.\n",
    "sns.countplot(data=df, x='days_of_week')\n",
    "plt.show()"
   ]
  },
  {
   "cell_type": "code",
   "execution_count": null,
   "metadata": {},
   "outputs": [],
   "source": [
    "#\n",
    "# holiday의 막대그림.\n",
    "# \n",
    "sns.countplot(data=df, x='holyday')\n",
    "plt.show()"
   ]
  },
  {
   "cell_type": "markdown",
   "metadata": {},
   "source": [
    "#### 일변량 요약과 시각화"
   ]
  },
  {
   "cell_type": "code",
   "execution_count": null,
   "metadata": {},
   "outputs": [],
   "source": [
    "# 휴일 여부별 평균 사용 금액.\n",
    "df.groupby('holyday')['amount'].mean()"
   ]
  },
  {
   "cell_type": "code",
   "execution_count": null,
   "metadata": {},
   "outputs": [],
   "source": [
    "# 요일별 평균 결제 금액.\n",
    "ser1 = df.groupby('days_of_week')['amount'].mean()\n",
    "ser1"
   ]
  },
  {
   "cell_type": "code",
   "execution_count": null,
   "metadata": {},
   "outputs": [],
   "source": [
    "sns.barplot(ser1.index, ser1.values)\n",
    "plt.show()"
   ]
  },
  {
   "cell_type": "code",
   "execution_count": null,
   "metadata": {},
   "outputs": [],
   "source": [
    "# store_id 별 평균 결제 금액.\n",
    "ser2 = df.groupby('store_id')['amount'].mean()\n",
    "sns.distplot(ser2).set_title('Mean Amount by Store')\n",
    "plt.show()\n",
    "sns.distplot(np.log(ser2+1),color='orange').set_title('Mean Amount by Store [Logged]')\n",
    "plt.show()"
   ]
  },
  {
   "cell_type": "code",
   "execution_count": null,
   "metadata": {},
   "outputs": [],
   "source": [
    "# store_id 별 Total 결제 금액.\n",
    "ser2b = df.groupby('store_id')['amount'].sum()\n",
    "sns.distplot(ser2b).set_title('Total Amount by Store')\n",
    "plt.show()\n",
    "sns.distplot(np.log(ser2b+1),color='orange').set_title('Total Amount by Store [Logged]')\n",
    "plt.show()"
   ]
  },
  {
   "cell_type": "code",
   "execution_count": null,
   "metadata": {},
   "outputs": [],
   "source": [
    "# card_id 별 평균 결제 금액.\n",
    "ser3 = df.groupby('card_id')['amount'].mean()\n",
    "sns.distplot(ser3, kde=False).set_title('Mean Amount by Card')\n",
    "plt.show()"
   ]
  },
  {
   "cell_type": "code",
   "execution_count": null,
   "metadata": {},
   "outputs": [],
   "source": [
    "# card_id 별 Total 결제 금액.\n",
    "ser3b = df.groupby('card_id')['amount'].mean()\n",
    "sns.distplot(ser3b, kde=False).set_title('Total Amount by Card')\n",
    "plt.show()"
   ]
  },
  {
   "cell_type": "markdown",
   "metadata": {},
   "source": [
    "#### 분류"
   ]
  },
  {
   "cell_type": "code",
   "execution_count": null,
   "metadata": {},
   "outputs": [],
   "source": [
    "#\n",
    "# store_id 별 Total 결제 금액에 의한 3 등급 분류.\n",
    "#\n",
    "ser2c = pd.qcut(ser2b,3,labels=['Low', 'Medium', 'High'])\n",
    "combo2 = pd.DataFrame({\"amount\":ser2b.values, \"category\":ser2c.values})\n",
    "combo2.head(5)"
   ]
  },
  {
   "cell_type": "code",
   "execution_count": null,
   "metadata": {},
   "outputs": [],
   "source": [
    "# 등급별 평균.\n",
    "combo2.groupby(\"category\")[\"amount\"].mean()"
   ]
  },
  {
   "cell_type": "code",
   "execution_count": null,
   "metadata": {},
   "outputs": [],
   "source": [
    "#\n",
    "# card_id 별 Total 결제 금액에 의한 3 등급 분류.\n",
    "#\n",
    "ser3c = pd.qcut(ser3b,3,labels=['Low', 'Medium', 'High'])\n",
    "combo3 = pd.DataFrame({\"amount\":ser3b.values, \"category\":ser3c.values})\n",
    "combo3.head(5)"
   ]
  },
  {
   "cell_type": "code",
   "execution_count": null,
   "metadata": {},
   "outputs": [],
   "source": [
    "# 등급별 평균.\n",
    "combo3.groupby(\"category\")[\"amount\"].mean()"
   ]
  },
  {
   "cell_type": "markdown",
   "metadata": {},
   "source": [
    "#### 이변량 요약과 시각화"
   ]
  },
  {
   "cell_type": "code",
   "execution_count": null,
   "metadata": {},
   "outputs": [],
   "source": [
    "# installment 대 amount\n",
    "ser = df.groupby('installments')['amount'].mean()\n",
    "sns.jointplot(ser.index, ser.values, kind='reg')  # installments 로그변환.\n",
    "plt.show()"
   ]
  },
  {
   "cell_type": "code",
   "execution_count": null,
   "metadata": {},
   "outputs": [],
   "source": [
    "# 거래 횟수 대 총 거래 금액\n",
    "sera = np.log(df['store_id'].value_counts()+1)             # 로그변환.\n",
    "serb = np.log(df.groupby('store_id')['amount'].sum()+1)    # 로그변환."
   ]
  },
  {
   "cell_type": "code",
   "execution_count": null,
   "metadata": {},
   "outputs": [],
   "source": [
    "df2 = pd.concat([sera,serb],axis=1)\n",
    "df2.columns = ['Frequency', 'Amount']      # 컬럼 명칭을 바로 쓴다."
   ]
  },
  {
   "cell_type": "code",
   "execution_count": null,
   "metadata": {},
   "outputs": [],
   "source": [
    "sns.jointplot(x='Frequency',y='Amount',data=df2,kind=\"reg\", size=10)\n",
    "plt.show()"
   ]
  },
  {
   "cell_type": "code",
   "execution_count": null,
   "metadata": {},
   "outputs": [],
   "source": []
  }
 ],
 "metadata": {
  "kernelspec": {
   "display_name": "tf_cpu",
   "language": "python",
   "name": "tf_cpu"
  },
  "language_info": {
   "codemirror_mode": {
    "name": "ipython",
    "version": 3
   },
   "file_extension": ".py",
   "mimetype": "text/x-python",
   "name": "python",
   "nbconvert_exporter": "python",
   "pygments_lexer": "ipython3",
   "version": "3.6.8"
  }
 },
 "nbformat": 4,
 "nbformat_minor": 2
}
