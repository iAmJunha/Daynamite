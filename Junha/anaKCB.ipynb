{
 "cells": [
  {
   "cell_type": "markdown",
   "metadata": {},
   "source": [
    "## KCB 결제 및 신용 데이터 분석"
   ]
  },
  {
   "cell_type": "code",
   "execution_count": 1,
   "metadata": {},
   "outputs": [],
   "source": [
    "# 모듈 import\n",
    "import pandas as pd\n",
    "import os\n",
    "import matplotlib.pyplot as plt"
   ]
  },
  {
   "cell_type": "code",
   "execution_count": 2,
   "metadata": {},
   "outputs": [],
   "source": [
    "# 디렉토리 변경\n",
    "os.chdir(r'C:/Users/jhbea/OneDrive/바탕 화면/Danalyze')"
   ]
  },
  {
   "cell_type": "code",
   "execution_count": 3,
   "metadata": {},
   "outputs": [],
   "source": [
    "# 카드데이터\n",
    "df = pd.read_csv('credit_card_data.csv')\n",
    "#처음 csv 읽어 올 때는 인코딩 따로 주지 말고 읽어볼 것 .\n",
    "#오류 발생 시 여러 채널로 파일 전송하는 과정에서 훼손되었을 수 있기 때문에 되도록 원 제공자에게 받을 것."
   ]
  },
  {
   "cell_type": "code",
   "execution_count": 4,
   "metadata": {},
   "outputs": [
    {
     "data": {
      "text/html": [
       "<div>\n",
       "<style scoped>\n",
       "    .dataframe tbody tr th:only-of-type {\n",
       "        vertical-align: middle;\n",
       "    }\n",
       "\n",
       "    .dataframe tbody tr th {\n",
       "        vertical-align: top;\n",
       "    }\n",
       "\n",
       "    .dataframe thead th {\n",
       "        text-align: right;\n",
       "    }\n",
       "</style>\n",
       "<table border=\"1\" class=\"dataframe\">\n",
       "  <thead>\n",
       "    <tr style=\"text-align: right;\">\n",
       "      <th></th>\n",
       "      <th>pop_cd</th>\n",
       "      <th>year</th>\n",
       "      <th>month</th>\n",
       "      <th>avg_score</th>\n",
       "      <th>avg_rat</th>\n",
       "      <th>city</th>\n",
       "      <th>sex</th>\n",
       "      <th>ages</th>\n",
       "      <th>population</th>\n",
       "      <th>num_opencard</th>\n",
       "      <th>...</th>\n",
       "      <th>monthly_installments_loan</th>\n",
       "      <th>monthly_insurance_loan</th>\n",
       "      <th>monthly_sbk_loan</th>\n",
       "      <th>loan_commitment</th>\n",
       "      <th>inst_rep_loanb</th>\n",
       "      <th>ls_rep_loanb</th>\n",
       "      <th>credit_loan</th>\n",
       "      <th>mortgage_loan</th>\n",
       "      <th>credit_card_payment</th>\n",
       "      <th>credit_card_installments_payment</th>\n",
       "    </tr>\n",
       "  </thead>\n",
       "  <tbody>\n",
       "    <tr>\n",
       "      <th>0</th>\n",
       "      <td>L011</td>\n",
       "      <td>2016</td>\n",
       "      <td>1</td>\n",
       "      <td>812</td>\n",
       "      <td>2</td>\n",
       "      <td>서울</td>\n",
       "      <td>NaN</td>\n",
       "      <td>10대</td>\n",
       "      <td>55000</td>\n",
       "      <td>1.44</td>\n",
       "      <td>...</td>\n",
       "      <td>0</td>\n",
       "      <td>0</td>\n",
       "      <td>0</td>\n",
       "      <td>1120000</td>\n",
       "      <td>8210000</td>\n",
       "      <td>78020000</td>\n",
       "      <td>92170000</td>\n",
       "      <td>87260000</td>\n",
       "      <td>0</td>\n",
       "      <td>0</td>\n",
       "    </tr>\n",
       "    <tr>\n",
       "      <th>1</th>\n",
       "      <td>L011</td>\n",
       "      <td>2016</td>\n",
       "      <td>2</td>\n",
       "      <td>773</td>\n",
       "      <td>4</td>\n",
       "      <td>서울</td>\n",
       "      <td>NaN</td>\n",
       "      <td>10대</td>\n",
       "      <td>380000</td>\n",
       "      <td>1.71</td>\n",
       "      <td>...</td>\n",
       "      <td>510000</td>\n",
       "      <td>220000</td>\n",
       "      <td>1020000</td>\n",
       "      <td>680000</td>\n",
       "      <td>4660000</td>\n",
       "      <td>23300000</td>\n",
       "      <td>8260000</td>\n",
       "      <td>42410000</td>\n",
       "      <td>4000</td>\n",
       "      <td>1000</td>\n",
       "    </tr>\n",
       "    <tr>\n",
       "      <th>2</th>\n",
       "      <td>L011</td>\n",
       "      <td>2016</td>\n",
       "      <td>3</td>\n",
       "      <td>771</td>\n",
       "      <td>4</td>\n",
       "      <td>서울</td>\n",
       "      <td>NaN</td>\n",
       "      <td>10대</td>\n",
       "      <td>387000</td>\n",
       "      <td>1.75</td>\n",
       "      <td>...</td>\n",
       "      <td>490000</td>\n",
       "      <td>210000</td>\n",
       "      <td>1140000</td>\n",
       "      <td>640000</td>\n",
       "      <td>4370000</td>\n",
       "      <td>22930000</td>\n",
       "      <td>8300000</td>\n",
       "      <td>41710000</td>\n",
       "      <td>3000</td>\n",
       "      <td>1000</td>\n",
       "    </tr>\n",
       "    <tr>\n",
       "      <th>3</th>\n",
       "      <td>L011</td>\n",
       "      <td>2016</td>\n",
       "      <td>4</td>\n",
       "      <td>770</td>\n",
       "      <td>4</td>\n",
       "      <td>서울</td>\n",
       "      <td>NaN</td>\n",
       "      <td>10대</td>\n",
       "      <td>412000</td>\n",
       "      <td>1.76</td>\n",
       "      <td>...</td>\n",
       "      <td>510000</td>\n",
       "      <td>240000</td>\n",
       "      <td>1340000</td>\n",
       "      <td>510000</td>\n",
       "      <td>4770000</td>\n",
       "      <td>22160000</td>\n",
       "      <td>9460000</td>\n",
       "      <td>41040000</td>\n",
       "      <td>4000</td>\n",
       "      <td>1000</td>\n",
       "    </tr>\n",
       "    <tr>\n",
       "      <th>4</th>\n",
       "      <td>L011</td>\n",
       "      <td>2016</td>\n",
       "      <td>5</td>\n",
       "      <td>771</td>\n",
       "      <td>4</td>\n",
       "      <td>서울</td>\n",
       "      <td>NaN</td>\n",
       "      <td>10대</td>\n",
       "      <td>414000</td>\n",
       "      <td>1.75</td>\n",
       "      <td>...</td>\n",
       "      <td>490000</td>\n",
       "      <td>340000</td>\n",
       "      <td>1490000</td>\n",
       "      <td>640000</td>\n",
       "      <td>4740000</td>\n",
       "      <td>21960000</td>\n",
       "      <td>9660000</td>\n",
       "      <td>40850000</td>\n",
       "      <td>3000</td>\n",
       "      <td>1000</td>\n",
       "    </tr>\n",
       "  </tbody>\n",
       "</table>\n",
       "<p>5 rows × 26 columns</p>\n",
       "</div>"
      ],
      "text/plain": [
       "  pop_cd  year  month  avg_score  avg_rat city  sex ages  population  \\\n",
       "0   L011  2016      1        812        2   서울  NaN  10대       55000   \n",
       "1   L011  2016      2        773        4   서울  NaN  10대      380000   \n",
       "2   L011  2016      3        771        4   서울  NaN  10대      387000   \n",
       "3   L011  2016      4        770        4   서울  NaN  10대      412000   \n",
       "4   L011  2016      5        771        4   서울  NaN  10대      414000   \n",
       "\n",
       "   num_opencard  ...  monthly_installments_loan  monthly_insurance_loan  \\\n",
       "0          1.44  ...                          0                       0   \n",
       "1          1.71  ...                     510000                  220000   \n",
       "2          1.75  ...                     490000                  210000   \n",
       "3          1.76  ...                     510000                  240000   \n",
       "4          1.75  ...                     490000                  340000   \n",
       "\n",
       "   monthly_sbk_loan  loan_commitment  inst_rep_loanb  ls_rep_loanb  \\\n",
       "0                 0          1120000         8210000      78020000   \n",
       "1           1020000           680000         4660000      23300000   \n",
       "2           1140000           640000         4370000      22930000   \n",
       "3           1340000           510000         4770000      22160000   \n",
       "4           1490000           640000         4740000      21960000   \n",
       "\n",
       "   credit_loan  mortgage_loan  credit_card_payment  \\\n",
       "0     92170000       87260000                    0   \n",
       "1      8260000       42410000                 4000   \n",
       "2      8300000       41710000                 3000   \n",
       "3      9460000       41040000                 4000   \n",
       "4      9660000       40850000                 3000   \n",
       "\n",
       "   credit_card_installments_payment  \n",
       "0                                 0  \n",
       "1                              1000  \n",
       "2                              1000  \n",
       "3                              1000  \n",
       "4                              1000  \n",
       "\n",
       "[5 rows x 26 columns]"
      ]
     },
     "execution_count": 4,
     "metadata": {},
     "output_type": "execute_result"
    }
   ],
   "source": [
    "df.head(5)"
   ]
  },
  {
   "cell_type": "code",
   "execution_count": 5,
   "metadata": {},
   "outputs": [
    {
     "data": {
      "text/plain": [
       "Index(['pop_cd', 'year', 'month', 'avg_score', 'avg_rat', 'city', 'sex',\n",
       "       'ages', 'population', 'num_opencard', 'num_usecard',\n",
       "       'monthly_card_spend', 'monthly_lc', 'monthly_loan', 'monthly_bk_loan',\n",
       "       'monthly_cd_loan', 'monthly_installments_loan',\n",
       "       'monthly_insurance_loan', 'monthly_sbk_loan', 'loan_commitment',\n",
       "       'inst_rep_loanb', 'ls_rep_loanb', 'credit_loan', 'mortgage_loan',\n",
       "       'credit_card_payment', 'credit_card_installments_payment'],\n",
       "      dtype='object')"
      ]
     },
     "execution_count": 5,
     "metadata": {},
     "output_type": "execute_result"
    }
   ],
   "source": [
    "df.columns"
   ]
  },
  {
   "cell_type": "code",
   "execution_count": 6,
   "metadata": {},
   "outputs": [
    {
     "name": "stdout",
     "output_type": "stream",
     "text": [
      "<class 'pandas.core.frame.DataFrame'>\n",
      "RangeIndex: 3888 entries, 0 to 3887\n",
      "Data columns (total 26 columns):\n",
      "pop_cd                              3888 non-null object\n",
      "year                                3888 non-null int64\n",
      "month                               3888 non-null int64\n",
      "avg_score                           3888 non-null int64\n",
      "avg_rat                             3888 non-null int64\n",
      "city                                3456 non-null object\n",
      "sex                                 432 non-null object\n",
      "ages                                3888 non-null object\n",
      "population                          3888 non-null int64\n",
      "num_opencard                        3888 non-null float64\n",
      "num_usecard                         3888 non-null float64\n",
      "monthly_card_spend                  3888 non-null int64\n",
      "monthly_lc                          3888 non-null int64\n",
      "monthly_loan                        3888 non-null int64\n",
      "monthly_bk_loan                     3888 non-null int64\n",
      "monthly_cd_loan                     3888 non-null int64\n",
      "monthly_installments_loan           3888 non-null int64\n",
      "monthly_insurance_loan              3888 non-null int64\n",
      "monthly_sbk_loan                    3888 non-null int64\n",
      "loan_commitment                     3888 non-null int64\n",
      "inst_rep_loanb                      3888 non-null int64\n",
      "ls_rep_loanb                        3888 non-null int64\n",
      "credit_loan                         3888 non-null int64\n",
      "mortgage_loan                       3888 non-null int64\n",
      "credit_card_payment                 3888 non-null int64\n",
      "credit_card_installments_payment    3888 non-null int64\n",
      "dtypes: float64(2), int64(20), object(4)\n",
      "memory usage: 789.8+ KB\n"
     ]
    }
   ],
   "source": [
    "df.info()"
   ]
  },
  {
   "cell_type": "markdown",
   "metadata": {},
   "source": [
    "### 코드분류 방법이 두가지 (지역+나이) 랑 (성별+나이)\n",
    "#### df_r = (지역+나이) ( v ) <br> df_s = (성별+나이)"
   ]
  },
  {
   "cell_type": "markdown",
   "metadata": {},
   "source": [
    "credit_card_data.csv 안에는 전체 집단을 두가지 기준으로 분류한 데이터가 섞여 있었다.\n",
    "<br>이를 두 개의 DataFrame으로 분리 하였다."
   ]
  },
  {
   "cell_type": "markdown",
   "metadata": {},
   "source": [
    "* 성별 정보만 있는 row들"
   ]
  },
  {
   "cell_type": "code",
   "execution_count": 7,
   "metadata": {},
   "outputs": [],
   "source": [
    "df_s=df[(df.sex == '남자') | (df.sex=='여자')]"
   ]
  },
  {
   "cell_type": "markdown",
   "metadata": {},
   "source": [
    "* 지역정보가 포함된 row들"
   ]
  },
  {
   "cell_type": "code",
   "execution_count": 8,
   "metadata": {},
   "outputs": [],
   "source": [
    "df_r = df[-((df.sex == '남자') | (df.sex=='여자'))]"
   ]
  },
  {
   "cell_type": "code",
   "execution_count": 9,
   "metadata": {},
   "outputs": [
    {
     "data": {
      "text/plain": [
       "1090371000"
      ]
     },
     "execution_count": 9,
     "metadata": {},
     "output_type": "execute_result"
    }
   ],
   "source": [
    "df_r.population.sum()"
   ]
  },
  {
   "cell_type": "markdown",
   "metadata": {},
   "source": [
    "#### 지역 및 연령에 의해 나눠집 집단(df_r)을 분석하기로 결정하였다.\n"
   ]
  },
  {
   "cell_type": "code",
   "execution_count": 10,
   "metadata": {},
   "outputs": [],
   "source": [
    "#성별 정보는 필요없으니까 drop한다\n",
    "df_r = df_r.drop(columns=['sex'])"
   ]
  },
  {
   "cell_type": "code",
   "execution_count": 11,
   "metadata": {},
   "outputs": [
    {
     "name": "stdout",
     "output_type": "stream",
     "text": [
      "<class 'pandas.core.frame.DataFrame'>\n",
      "Int64Index: 3456 entries, 0 to 3839\n",
      "Data columns (total 25 columns):\n",
      "pop_cd                              3456 non-null object\n",
      "year                                3456 non-null int64\n",
      "month                               3456 non-null int64\n",
      "avg_score                           3456 non-null int64\n",
      "avg_rat                             3456 non-null int64\n",
      "city                                3456 non-null object\n",
      "ages                                3456 non-null object\n",
      "population                          3456 non-null int64\n",
      "num_opencard                        3456 non-null float64\n",
      "num_usecard                         3456 non-null float64\n",
      "monthly_card_spend                  3456 non-null int64\n",
      "monthly_lc                          3456 non-null int64\n",
      "monthly_loan                        3456 non-null int64\n",
      "monthly_bk_loan                     3456 non-null int64\n",
      "monthly_cd_loan                     3456 non-null int64\n",
      "monthly_installments_loan           3456 non-null int64\n",
      "monthly_insurance_loan              3456 non-null int64\n",
      "monthly_sbk_loan                    3456 non-null int64\n",
      "loan_commitment                     3456 non-null int64\n",
      "inst_rep_loanb                      3456 non-null int64\n",
      "ls_rep_loanb                        3456 non-null int64\n",
      "credit_loan                         3456 non-null int64\n",
      "mortgage_loan                       3456 non-null int64\n",
      "credit_card_payment                 3456 non-null int64\n",
      "credit_card_installments_payment    3456 non-null int64\n",
      "dtypes: float64(2), int64(20), object(3)\n",
      "memory usage: 702.0+ KB\n"
     ]
    }
   ],
   "source": [
    "# 결측치 없음 \n",
    "df_r.info()"
   ]
  },
  {
   "cell_type": "markdown",
   "metadata": {},
   "source": [
    "* df_r: (16개 시도) * (16.01~17.12 = 24개월) * (10대 부터 90대까지 9개 구간) = 3456"
   ]
  },
  {
   "cell_type": "markdown",
   "metadata": {},
   "source": [
    "# --------잠시 보류------------------"
   ]
  },
  {
   "cell_type": "code",
   "execution_count": 12,
   "metadata": {},
   "outputs": [],
   "source": [
    "# 전 기간 다 더하면 144개 구분.(시간으로 그룹바이 )\n",
    "# 연령대별로 2년간 월별 추이가 다른지 아닌지 확인"
   ]
  },
  {
   "cell_type": "markdown",
   "metadata": {},
   "source": [
    "# 서울 거주 30대 월 카드사용총액\n",
    "df_s30=df_r[(df_r.ages == '30대') & (df_r.city == '서울')]"
   ]
  },
  {
   "cell_type": "markdown",
   "metadata": {},
   "source": [
    "df_s30.shape"
   ]
  },
  {
   "cell_type": "markdown",
   "metadata": {},
   "source": [
    "#시각화 lib\n",
    "import seaborn as sns"
   ]
  },
  {
   "cell_type": "markdown",
   "metadata": {},
   "source": [
    "df_s30.monthly_card_spend"
   ]
  },
  {
   "cell_type": "markdown",
   "metadata": {},
   "source": [
    "sns.barplot(df_s30.index,df_s30.value)"
   ]
  },
  {
   "cell_type": "markdown",
   "metadata": {},
   "source": [
    "# ------------------------------------"
   ]
  },
  {
   "cell_type": "markdown",
   "metadata": {},
   "source": [
    "### 지역별 대출 데이터 시각화 "
   ]
  },
  {
   "cell_type": "markdown",
   "metadata": {},
   "source": [
    "* 5개(bk,cd,installment,insurance,sbk) 분류 시각화 도출"
   ]
  },
  {
   "cell_type": "code",
   "execution_count": 13,
   "metadata": {},
   "outputs": [
    {
     "data": {
      "text/plain": [
       "month\n",
       "1     AxesSubplot(0.125,0.125;0.775x0.755)\n",
       "2     AxesSubplot(0.125,0.125;0.775x0.755)\n",
       "3     AxesSubplot(0.125,0.125;0.775x0.755)\n",
       "4     AxesSubplot(0.125,0.125;0.775x0.755)\n",
       "5     AxesSubplot(0.125,0.125;0.775x0.755)\n",
       "6     AxesSubplot(0.125,0.125;0.775x0.755)\n",
       "7     AxesSubplot(0.125,0.125;0.775x0.755)\n",
       "8     AxesSubplot(0.125,0.125;0.775x0.755)\n",
       "9     AxesSubplot(0.125,0.125;0.775x0.755)\n",
       "10    AxesSubplot(0.125,0.125;0.775x0.755)\n",
       "11    AxesSubplot(0.125,0.125;0.775x0.755)\n",
       "12    AxesSubplot(0.125,0.125;0.775x0.755)\n",
       "Name: monthly_loan, dtype: object"
      ]
     },
     "execution_count": 13,
     "metadata": {},
     "output_type": "execute_result"
    },
    {
     "data": {
      "image/png": "[encoded data removed]",
      "text/plain": [
       "<Figure size 432x288 with 1 Axes>"
      ]
     },
     "metadata": {
      "needs_background": "light"
     },
     "output_type": "display_data"
    }
   ],
   "source": [
    "# 년 월 별로 그룹화 진행 \n",
    "dfloan=df_r.groupby(['month'])['monthly_loan'] \n",
    "dfloan.plot()"
   ]
  },
  {
   "cell_type": "code",
   "execution_count": null,
   "metadata": {},
   "outputs": [],
   "source": []
  },
  {
   "cell_type": "code",
   "execution_count": null,
   "metadata": {},
   "outputs": [],
   "source": []
  },
  {
   "cell_type": "markdown",
   "metadata": {},
   "source": [
    "## <제주도 신용 및 결제 데이터>\n",
    "### -군집화를 통한 안정성 분석"
   ]
  },
  {
   "cell_type": "code",
   "execution_count": 14,
   "metadata": {},
   "outputs": [],
   "source": [
    "dfjj=pd.read_csv('jeju_financial_life_data.csv')"
   ]
  },
  {
   "cell_type": "code",
   "execution_count": 15,
   "metadata": {},
   "outputs": [
    {
     "data": {
      "text/plain": [
       "Index(['zip_cd', 'year_month', 'x_axis', 'y_axis', 'sex', 'age', 'job_majorc',\n",
       "       'job_smallc', 'job_public', 'job_profession', 'job_self', 'job_none',\n",
       "       'job_other', 'avg_income', 'med_income', 'avg_spend',\n",
       "       'avg_foreign_spend', 'avg_debt', 'avg_debt_credit', 'avg_debt_noneb',\n",
       "       'avg_debt_mortgage', 'avg_debt_deposit', 'avg_debt_collateral',\n",
       "       'avg_credit_rat', 'medium_resid_rat', 'large_resid_rat',\n",
       "       'vehicle_own_rat'],\n",
       "      dtype='object')"
      ]
     },
     "execution_count": 15,
     "metadata": {},
     "output_type": "execute_result"
    }
   ],
   "source": [
    "dfjj.columns"
   ]
  },
  {
   "cell_type": "code",
   "execution_count": 16,
   "metadata": {},
   "outputs": [],
   "source": [
    "# 시간이 무의미하므로 연월데이터를 없앤다.\n",
    "dfjj = dfjj.drop(columns=['year_month'])"
   ]
  },
  {
   "cell_type": "code",
   "execution_count": 17,
   "metadata": {},
   "outputs": [
    {
     "name": "stdout",
     "output_type": "stream",
     "text": [
      "<class 'pandas.core.frame.DataFrame'>\n",
      "RangeIndex: 10422 entries, 0 to 10421\n",
      "Data columns (total 26 columns):\n",
      "zip_cd                 10422 non-null int64\n",
      "x_axis                 10422 non-null float64\n",
      "y_axis                 10422 non-null float64\n",
      "sex                    10422 non-null int64\n",
      "age                    10422 non-null int64\n",
      "job_majorc             10422 non-null float64\n",
      "job_smallc             10422 non-null float64\n",
      "job_public             10422 non-null float64\n",
      "job_profession         10422 non-null float64\n",
      "job_self               10422 non-null float64\n",
      "job_none               10422 non-null float64\n",
      "job_other              10422 non-null float64\n",
      "avg_income             10422 non-null int64\n",
      "med_income             10422 non-null int64\n",
      "avg_spend              10422 non-null int64\n",
      "avg_foreign_spend      10422 non-null int64\n",
      "avg_debt               10422 non-null int64\n",
      "avg_debt_credit        10422 non-null int64\n",
      "avg_debt_noneb         10422 non-null int64\n",
      "avg_debt_mortgage      10422 non-null int64\n",
      "avg_debt_deposit       10422 non-null int64\n",
      "avg_debt_collateral    10422 non-null int64\n",
      "avg_credit_rat         10422 non-null int64\n",
      "medium_resid_rat       10422 non-null float64\n",
      "large_resid_rat        10422 non-null float64\n",
      "vehicle_own_rat        10422 non-null float64\n",
      "dtypes: float64(12), int64(14)\n",
      "memory usage: 2.1 MB\n"
     ]
    }
   ],
   "source": [
    "#결측치 파악\n",
    "dfjj.info() \n",
    "#결측치 없음"
   ]
  },
  {
   "cell_type": "code",
   "execution_count": 18,
   "metadata": {},
   "outputs": [
    {
     "data": {
      "text/plain": [
       "(10422, 26)"
      ]
     },
     "execution_count": 18,
     "metadata": {},
     "output_type": "execute_result"
    }
   ],
   "source": [
    "# 사이즈 확인 \n",
    "dfjj.shape # 27개 칼럼."
   ]
  },
  {
   "cell_type": "markdown",
   "metadata": {},
   "source": [
    "#### 안정성 지표로서 <u>가계수지지표</u>를 사용한다. \n",
    "#### dataframe 중 avg_income / avg_spend를 이용한다. "
   ]
  },
  {
   "cell_type": "code",
   "execution_count": 19,
   "metadata": {},
   "outputs": [
    {
     "data": {
      "text/plain": [
       "(7873, 26)"
      ]
     },
     "execution_count": 19,
     "metadata": {},
     "output_type": "execute_result"
    }
   ],
   "source": [
    "dfjj[dfjj.large_resid_rat == -999999].shape\n",
    "# 주거비율 -999999인 row 는 7873"
   ]
  },
  {
   "cell_type": "markdown",
   "metadata": {},
   "source": [
    "### Folium 을 사용하여 지도위에 Mark하기 : <br>최종적으로 특정 조건에 맞는 count를 시각화 할 수 있도록 함.\n",
    "* MarkerCluster를 이용하여 cluster안의 값들을 count한다. "
   ]
  },
  {
   "cell_type": "code",
   "execution_count": 20,
   "metadata": {},
   "outputs": [],
   "source": [
    "import folium \n",
    "from folium.plugins import MarkerCluster"
   ]
  },
  {
   "cell_type": "markdown",
   "metadata": {},
   "source": [
    "#test용으로 1행의 정보를 찍어본다.\n",
    "m = folium.Map(\n",
    "    location=[33.362134,126.533345], #한라산 백록담\n",
    "    zoom_start=10.5\n",
    ")\n",
    "\n",
    "for i in range(0,1000):\n",
    "    folium.Marker(\n",
    "        location=[dfjj.y_axis[i],dfjj.x_axis[i]],\n",
    "        popup='BAE JUNHA ZZANG!',\n",
    "        icon=folium.Icon(color='blue',icon='circle')\n",
    "        \n",
    "    ).add_to(m)\n",
    "\n",
    "m.save('testmap.html')"
   ]
  },
  {
   "cell_type": "markdown",
   "metadata": {},
   "source": [
    "#### MARKER CLUSTER"
   ]
  },
  {
   "cell_type": "markdown",
   "metadata": {},
   "source": [
    "* marker cluster의 동작을 확인한다."
   ]
  },
  {
   "cell_type": "markdown",
   "metadata": {},
   "source": [
    "m = folium.Map(\n",
    "    location=[33.362134,126.533345], #한라산 백록담\n",
    "    zoom_start=10.5\n",
    ")\n",
    "\n",
    "marker_cluster = MarkerCluster().add_to(m)\n",
    "\n",
    "for i in range(0,1000):\n",
    "    folium.Marker(\n",
    "        location=[dfjj.y_axis[i],dfjj.x_axis[i]],\n",
    "        popup='cluster test',\n",
    "        icon=folium.Icon(color='blue',icon='circle')\n",
    "        \n",
    "    ).add_to(marker_cluster)\n",
    "\n",
    "m.save('testmap.html')"
   ]
  },
  {
   "cell_type": "markdown",
   "metadata": {},
   "source": [
    "가계수지지표(Household Income Index,이하 hii)는 <br>가계의 안정성을 간략히 보여주는 지표로서, <br> 1보다 큰 경우 수입보다 지출이 큰 경우 적자상태로 볼 수 있다.<br><br>그러므로 [hii > 1] 인 인구의 도수를 파악하고 이를 지역 별로 비교하는 것이 유의미 할 것으로 판단하였다."
   ]
  },
  {
   "cell_type": "markdown",
   "metadata": {},
   "source": [
    "### hii가 1이상으로 위험군으로 분류 될 수 있는 인구의 도수를 지도상에 시각화한다.\n",
    "#### 코드 작성 순서 \n",
    "1. dfjj에서 [avg_income / avg_spend >1] 인 행을 조건부 슬라이싱하여 reframing후 dfhii로 저장한다. \n",
    "2. dfhii의 행들을 지도상에 clustering하여 시각화 한다."
   ]
  },
  {
   "cell_type": "markdown",
   "metadata": {},
   "source": [
    "dfhii = dfjj[(dfjj.avg_spend / (dfjj.avg_income + 1 )) > 1 ].copy()\n",
    "# income이 0인 경우를 대비하여 분모에 1을 더한다."
   ]
  },
  {
   "cell_type": "markdown",
   "metadata": {},
   "source": [
    "len(dfhii.index)\n",
    "dfhii.shape"
   ]
  },
  {
   "cell_type": "markdown",
   "metadata": {},
   "source": [
    "dfhii.head(5)"
   ]
  },
  {
   "cell_type": "code",
   "execution_count": 21,
   "metadata": {},
   "outputs": [
    {
     "data": {
      "text/plain": [
       "\"m = folium.Map(\\n    location=[33.362134,126.533345], #한라산 백록담\\n    zoom_start=10.5\\n)\\n\\nmarker_cluster = MarkerCluster().add_to(m)\\n\\nfor i in range(0,len(dfhii.index)-1):\\n    folium.Marker(\\n        location=[dfhii.iloc[i,2],dfhii.iloc[i,1]],\\n        popup='Household Index is {}',#.format((dfhii.iloc[i,14] / dfhii.iloc[i,12]+1)),\\n        icon=folium.Icon(color='red',icon='angry')\\n        \\n    ).add_to(marker_cluster)\\nm.save('hiimap.html') \""
      ]
     },
     "execution_count": 21,
     "metadata": {},
     "output_type": "execute_result"
    }
   ],
   "source": [
    "#Map 객체 만들기\n",
    "'''m = folium.Map(\n",
    "    location=[33.362134,126.533345], #한라산 백록담\n",
    "    zoom_start=10.5\n",
    ")\n",
    "\n",
    "marker_cluster = MarkerCluster().add_to(m)\n",
    "\n",
    "for i in range(0,len(dfhii.index)-1):\n",
    "    folium.Marker(\n",
    "        location=[dfhii.iloc[i,2],dfhii.iloc[i,1]],\n",
    "        popup='Household Index is {}',#.format((dfhii.iloc[i,14] / dfhii.iloc[i,12]+1)),\n",
    "        icon=folium.Icon(color='red',icon='angry')\n",
    "        \n",
    "    ).add_to(marker_cluster)\n",
    "m.save('hiimap.html') '''\n"
   ]
  },
  {
   "cell_type": "markdown",
   "metadata": {},
   "source": [
    "m"
   ]
  },
  {
   "cell_type": "markdown",
   "metadata": {},
   "source": [
    "### Clustering 말고 그냥 marker로 색깔만 달리해서 지도위에 점찍기 <br>가계수지지표 수준별 분포도 \n",
    "* 기준:<br> 0~0.4 = 저위험 ->Blue<br>0.4~0.7 = 중위험 ->Green<br>0.7~1.0 = 고위험 ->Yellow<br>1 > in danger ->Red"
   ]
  },
  {
   "cell_type": "code",
   "execution_count": 22,
   "metadata": {},
   "outputs": [],
   "source": [
    "# 지도를 표시를 위한 DataFrame.\n",
    "dfm=dfjj.loc[:,['x_axis','y_axis','avg_income','avg_spend']]\n"
   ]
  },
  {
   "cell_type": "code",
   "execution_count": 23,
   "metadata": {},
   "outputs": [],
   "source": [
    "# 위험도 구분하여 데이터프레임 분리.\n",
    "hi = dfm.avg_spend / (dfm.avg_income + 1 )\n",
    "dfred = dfm[(dfm.avg_spend / (dfm.avg_income + 1 )) > 1 ].copy()\n",
    "dfyellow = dfm[(hi <= 1) & (hi >= 0.8) ].copy()\n",
    "dfgreen = dfm[(hi >= 0.4) & (hi < 0.8) ].copy()\n",
    "dfblue = dfm[(dfm.avg_spend / (dfm.avg_income + 1 )) < 0.4 ].copy()"
   ]
  },
  {
   "cell_type": "code",
   "execution_count": 24,
   "metadata": {},
   "outputs": [
    {
     "name": "stdout",
     "output_type": "stream",
     "text": [
      "49\n",
      "0\n",
      "32\n",
      "10341\n"
     ]
    },
    {
     "data": {
      "text/html": [
       "<div>\n",
       "<style scoped>\n",
       "    .dataframe tbody tr th:only-of-type {\n",
       "        vertical-align: middle;\n",
       "    }\n",
       "\n",
       "    .dataframe tbody tr th {\n",
       "        vertical-align: top;\n",
       "    }\n",
       "\n",
       "    .dataframe thead th {\n",
       "        text-align: right;\n",
       "    }\n",
       "</style>\n",
       "<table border=\"1\" class=\"dataframe\">\n",
       "  <thead>\n",
       "    <tr style=\"text-align: right;\">\n",
       "      <th></th>\n",
       "      <th>x_axis</th>\n",
       "      <th>y_axis</th>\n",
       "      <th>avg_income</th>\n",
       "      <th>avg_spend</th>\n",
       "    </tr>\n",
       "  </thead>\n",
       "  <tbody>\n",
       "    <tr>\n",
       "      <th>220</th>\n",
       "      <td>126.541308</td>\n",
       "      <td>33.498187</td>\n",
       "      <td>0</td>\n",
       "      <td>381404</td>\n",
       "    </tr>\n",
       "    <tr>\n",
       "      <th>604</th>\n",
       "      <td>126.483401</td>\n",
       "      <td>33.480725</td>\n",
       "      <td>0</td>\n",
       "      <td>187476</td>\n",
       "    </tr>\n",
       "    <tr>\n",
       "      <th>929</th>\n",
       "      <td>126.283430</td>\n",
       "      <td>33.256071</td>\n",
       "      <td>0</td>\n",
       "      <td>2278491</td>\n",
       "    </tr>\n",
       "    <tr>\n",
       "      <th>967</th>\n",
       "      <td>126.325526</td>\n",
       "      <td>33.947015</td>\n",
       "      <td>0</td>\n",
       "      <td>217043</td>\n",
       "    </tr>\n",
       "    <tr>\n",
       "      <th>979</th>\n",
       "      <td>126.325526</td>\n",
       "      <td>33.947015</td>\n",
       "      <td>0</td>\n",
       "      <td>62929</td>\n",
       "    </tr>\n",
       "  </tbody>\n",
       "</table>\n",
       "</div>"
      ],
      "text/plain": [
       "         x_axis     y_axis  avg_income  avg_spend\n",
       "220  126.541308  33.498187           0     381404\n",
       "604  126.483401  33.480725           0     187476\n",
       "929  126.283430  33.256071           0    2278491\n",
       "967  126.325526  33.947015           0     217043\n",
       "979  126.325526  33.947015           0      62929"
      ]
     },
     "execution_count": 24,
     "metadata": {},
     "output_type": "execute_result"
    }
   ],
   "source": [
    "print(len(dfred.index))\n",
    "print(len(dfyellow.index))\n",
    "print(len(dfgreen.index))\n",
    "print(len(dfblue.index))\n",
    "dfred.head(5)"
   ]
  },
  {
   "cell_type": "markdown",
   "metadata": {},
   "source": [
    "* map에 점.찍.기"
   ]
  },
  {
   "cell_type": "code",
   "execution_count": 25,
   "metadata": {},
   "outputs": [],
   "source": [
    "m = folium.Map(\n",
    "    location=[33.362134,126.533345], #한라산 백록담\n",
    "    zoom_start=10.5\n",
    ")\n",
    "# red 추가\n",
    "for i in range(0,len(dfred.index)-1):\n",
    "    folium.Marker(\n",
    "        location=[dfred.iloc[i,1],dfred.iloc[i,0]] ,\n",
    "        popup='in Danger',\n",
    "        icon=folium.Icon(color='red',icon='circle')\n",
    "        \n",
    "    ).add_to(m)\n",
    "    \n",
    "#m.save('pointmap.html')"
   ]
  },
  {
   "cell_type": "code",
   "execution_count": 26,
   "metadata": {},
   "outputs": [],
   "source": [
    "# # yellow 추가 -- counts가 0임\n",
    "# for i in range(0,len(dfred.index)-1):\n",
    "#     folium.Marker(\n",
    "#         location=[dfyellow.iloc[i,1],dfyellow.iloc[i,0]] ,\n",
    "#         popup='High Risk',\n",
    "#         icon=folium.Icon(color='yellow',icon='circle')\n",
    "        \n",
    "#     ).add_to(m)\n",
    "    \n",
    "# #m.save('pointmap.html')"
   ]
  },
  {
   "cell_type": "code",
   "execution_count": 27,
   "metadata": {},
   "outputs": [],
   "source": [
    "# green 추가 \n",
    "for i in range(0,len(dfgreen.index)-1):\n",
    "    folium.Marker(\n",
    "        location=[dfgreen.iloc[i,1],dfgreen.iloc[i,0]] ,\n",
    "        popup='Good',\n",
    "        icon=folium.Icon(color='green',icon='circle')\n",
    "        \n",
    "    ).add_to(m)\n",
    "    \n",
    "#m.save('pointmap.html')"
   ]
  },
  {
   "cell_type": "markdown",
   "metadata": {},
   "source": [
    "# blue 추가 - clustering\n",
    "marker_cluster = MarkerCluster().add_to(m)\n",
    "\n",
    "for i in range(0,len(dfblue.index)-1):\n",
    "    if i%10 == 0:\n",
    "        folium.Marker(\n",
    "            location=[dfblue.iloc[i,1],dfblue.iloc[i,0]] ,\n",
    "            popup='Great',\n",
    "            icon=folium.Icon(color='blue',icon='circle')\n",
    "\n",
    "        ).add_to(marker_cluster)\n",
    "    \n",
    "m.save('pointmap.html')"
   ]
  },
  {
   "cell_type": "markdown",
   "metadata": {},
   "source": [
    "### map 출력\n",
    "m"
   ]
  },
  {
   "cell_type": "code",
   "execution_count": 28,
   "metadata": {},
   "outputs": [],
   "source": [
    "# blue 추가\n",
    "marker_cluster = MarkerCluster().add_to(m)\n",
    "\n",
    "for i in range(0,len(dfblue.index)-1):\n",
    "    if i%50 == 0:\n",
    "        folium.Marker(\n",
    "            location=[dfblue.iloc[i,1],dfblue.iloc[i,0]] ,\n",
    "            popup='Great',\n",
    "            icon=folium.Icon(color='blue',icon='circle')\n",
    "\n",
    "        ).add_to(m)\n",
    "    \n",
    "m.save('pointmap.html')"
   ]
  },
  {
   "cell_type": "code",
   "execution_count": null,
   "metadata": {},
   "outputs": [],
   "source": [
    "m"
   ]
  },
  {
   "cell_type": "markdown",
   "metadata": {},
   "source": [
    "### 위험군 분포 요인 분석: 왜 제주시에는 소비 > 소득인 사람들이 다른 곳 보다 많을까?\n",
    "1. 위험군들 데이터를 시각화 해서 분석\n",
    "2. 위험군들과 다른 지역 사람들 비교분석\n",
    "3. 지역적 차이로 부터 유추할 수 있는 요인등을 분석\n",
    "4. 인사이트 발굴"
   ]
  },
  {
   "cell_type": "code",
   "execution_count": 29,
   "metadata": {},
   "outputs": [
    {
     "data": {
      "text/html": [
       "<div>\n",
       "<style scoped>\n",
       "    .dataframe tbody tr th:only-of-type {\n",
       "        vertical-align: middle;\n",
       "    }\n",
       "\n",
       "    .dataframe tbody tr th {\n",
       "        vertical-align: top;\n",
       "    }\n",
       "\n",
       "    .dataframe thead th {\n",
       "        text-align: right;\n",
       "    }\n",
       "</style>\n",
       "<table border=\"1\" class=\"dataframe\">\n",
       "  <thead>\n",
       "    <tr style=\"text-align: right;\">\n",
       "      <th></th>\n",
       "      <th>x_axis</th>\n",
       "      <th>y_axis</th>\n",
       "      <th>avg_income</th>\n",
       "      <th>avg_spend</th>\n",
       "    </tr>\n",
       "  </thead>\n",
       "  <tbody>\n",
       "    <tr>\n",
       "      <th>220</th>\n",
       "      <td>126.541308</td>\n",
       "      <td>33.498187</td>\n",
       "      <td>0</td>\n",
       "      <td>381404</td>\n",
       "    </tr>\n",
       "    <tr>\n",
       "      <th>604</th>\n",
       "      <td>126.483401</td>\n",
       "      <td>33.480725</td>\n",
       "      <td>0</td>\n",
       "      <td>187476</td>\n",
       "    </tr>\n",
       "    <tr>\n",
       "      <th>929</th>\n",
       "      <td>126.283430</td>\n",
       "      <td>33.256071</td>\n",
       "      <td>0</td>\n",
       "      <td>2278491</td>\n",
       "    </tr>\n",
       "    <tr>\n",
       "      <th>967</th>\n",
       "      <td>126.325526</td>\n",
       "      <td>33.947015</td>\n",
       "      <td>0</td>\n",
       "      <td>217043</td>\n",
       "    </tr>\n",
       "    <tr>\n",
       "      <th>979</th>\n",
       "      <td>126.325526</td>\n",
       "      <td>33.947015</td>\n",
       "      <td>0</td>\n",
       "      <td>62929</td>\n",
       "    </tr>\n",
       "  </tbody>\n",
       "</table>\n",
       "</div>"
      ],
      "text/plain": [
       "         x_axis     y_axis  avg_income  avg_spend\n",
       "220  126.541308  33.498187           0     381404\n",
       "604  126.483401  33.480725           0     187476\n",
       "929  126.283430  33.256071           0    2278491\n",
       "967  126.325526  33.947015           0     217043\n",
       "979  126.325526  33.947015           0      62929"
      ]
     },
     "execution_count": 29,
     "metadata": {},
     "output_type": "execute_result"
    }
   ],
   "source": [
    "dfred.head(5)"
   ]
  },
  {
   "cell_type": "code",
   "execution_count": 30,
   "metadata": {},
   "outputs": [
    {
     "data": {
      "text/plain": [
       "49"
      ]
     },
     "execution_count": 30,
     "metadata": {},
     "output_type": "execute_result"
    }
   ],
   "source": [
    "len(dfred.index)"
   ]
  },
  {
   "cell_type": "code",
   "execution_count": 32,
   "metadata": {},
   "outputs": [
    {
     "data": {
      "text/plain": [
       "Index(['x_axis', 'y_axis', 'avg_income', 'avg_spend'], dtype='object')"
      ]
     },
     "execution_count": 32,
     "metadata": {},
     "output_type": "execute_result"
    }
   ],
   "source": [
    "dfred.columns"
   ]
  },
  {
   "cell_type": "code",
   "execution_count": 35,
   "metadata": {},
   "outputs": [
    {
     "data": {
      "text/plain": [
       "Index(['zip_cd', 'x_axis', 'y_axis', 'sex', 'age', 'job_majorc', 'job_smallc',\n",
       "       'job_public', 'job_profession', 'job_self', 'job_none', 'job_other',\n",
       "       'avg_income', 'med_income', 'avg_spend', 'avg_foreign_spend',\n",
       "       'avg_debt', 'avg_debt_credit', 'avg_debt_noneb', 'avg_debt_mortgage',\n",
       "       'avg_debt_deposit', 'avg_debt_collateral', 'avg_credit_rat',\n",
       "       'medium_resid_rat', 'large_resid_rat', 'vehicle_own_rat'],\n",
       "      dtype='object')"
      ]
     },
     "execution_count": 35,
     "metadata": {},
     "output_type": "execute_result"
    }
   ],
   "source": [
    "dfdanger = dfjj[hi > 1]\n",
    "dfdanger.columns"
   ]
  },
  {
   "cell_type": "markdown",
   "metadata": {},
   "source": [
    "[단독]\n",
    "* 1-1 성별 비율\n",
    "* 부채규모\n",
    "* 직업비율(대/공/중/자)\n",
    "* 수입-지출 총규모 \n",
    "* 주거형태\n"
   ]
  },
  {
   "cell_type": "code",
   "execution_count": null,
   "metadata": {},
   "outputs": [],
   "source": []
  }
 ],
 "metadata": {
  "kernelspec": {
   "display_name": "cuda",
   "language": "python",
   "name": "cuda"
  },
  "language_info": {
   "codemirror_mode": {
    "name": "ipython",
    "version": 3
   },
   "file_extension": ".py",
   "mimetype": "text/x-python",
   "name": "python",
   "nbconvert_exporter": "python",
   "pygments_lexer": "ipython3",
   "version": "3.6.8"
  }
 },
 "nbformat": 4,
 "nbformat_minor": 2
}
