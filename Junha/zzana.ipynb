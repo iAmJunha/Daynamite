{
 "cells": [
  {
   "cell_type": "markdown",
   "metadata": {},
   "source": [
    "## <b>Analyze Jeju : 제주도 금융 데이터 분석</b>\n",
    "### 지역 & 연령별 가계수지지표 (Household Income Index, 이하 hi) 및 위치좌표 시각화를 활용한 인사이트 탐색<br><br>"
   ]
  },
  {
   "cell_type": "code",
   "execution_count": 1,
   "metadata": {},
   "outputs": [],
   "source": [
    "# 패키지 import \n",
    "\n",
    "import pandas as pd\n",
    "import os\n",
    "import matplotlib.pyplot as plt\n"
   ]
  },
  {
   "cell_type": "markdown",
   "metadata": {},
   "source": [
    "#### 가계수지지표: Household Income Index, 가계소비성향과 적자여부를 파악하는 재무지표"
   ]
  },
  {
   "cell_type": "markdown",
   "metadata": {},
   "source": [
    "* 산출식은 [가계지출(고정+변동)/ 가계소득] 으로 <br>본 분석에서는 데이터 상의<u>3개월 평균 카드사용데이터와 연평균소득의 월별 환산치</u>로 이를 산출하였다.\n",
    "* Hi > 1 이상인 경우, 소비가 소득을 초과하여 가계 재정이 적자 상태에 있음을 의미한다.\n",
    "* 위험도별 분포를 제주특별자치도 지도 상에 표시하여 분포를 확인한다.\n",
    "* 앞서 언급한 고위험군을 다각도로 분석한다."
   ]
  },
  {
   "cell_type": "code",
   "execution_count": 2,
   "metadata": {},
   "outputs": [],
   "source": [
    "# 작업 디렉토리 변경\n",
    "os.chdir(r'C:/Users/jhbea/OneDrive/바탕 화면/Danalyze') "
   ]
  },
  {
   "cell_type": "code",
   "execution_count": 3,
   "metadata": {},
   "outputs": [],
   "source": [
    "# 제주 금융데이터 파일 dataframe생성\n",
    "dfjj=pd.read_csv('jeju_financial_life_data.csv')"
   ]
  },
  {
   "cell_type": "code",
   "execution_count": 4,
   "metadata": {},
   "outputs": [
    {
     "name": "stdout",
     "output_type": "stream",
     "text": [
      "<class 'pandas.core.frame.DataFrame'>\n",
      "RangeIndex: 10422 entries, 0 to 10421\n",
      "Data columns (total 27 columns):\n",
      "zip_cd                 10422 non-null int64\n",
      "year_month             10422 non-null int64\n",
      "x_axis                 10422 non-null float64\n",
      "y_axis                 10422 non-null float64\n",
      "sex                    10422 non-null int64\n",
      "age                    10422 non-null int64\n",
      "job_majorc             10422 non-null float64\n",
      "job_smallc             10422 non-null float64\n",
      "job_public             10422 non-null float64\n",
      "job_profession         10422 non-null float64\n",
      "job_self               10422 non-null float64\n",
      "job_none               10422 non-null float64\n",
      "job_other              10422 non-null float64\n",
      "avg_income             10422 non-null int64\n",
      "med_income             10422 non-null int64\n",
      "avg_spend              10422 non-null int64\n",
      "avg_foreign_spend      10422 non-null int64\n",
      "avg_debt               10422 non-null int64\n",
      "avg_debt_credit        10422 non-null int64\n",
      "avg_debt_noneb         10422 non-null int64\n",
      "avg_debt_mortgage      10422 non-null int64\n",
      "avg_debt_deposit       10422 non-null int64\n",
      "avg_debt_collateral    10422 non-null int64\n",
      "avg_credit_rat         10422 non-null int64\n",
      "medium_resid_rat       10422 non-null float64\n",
      "large_resid_rat        10422 non-null float64\n",
      "vehicle_own_rat        10422 non-null float64\n",
      "dtypes: float64(12), int64(15)\n",
      "memory usage: 2.1 MB\n"
     ]
    }
   ],
   "source": [
    "# 결측치 확인 \n",
    "dfjj.info() #결측치 없음"
   ]
  },
  {
   "cell_type": "markdown",
   "metadata": {},
   "source": [
    "* 년/월 정보와 우편번호데이터는 본 분석과정에 불필요하므로 column을  제거해준다."
   ]
  },
  {
   "cell_type": "code",
   "execution_count": 5,
   "metadata": {},
   "outputs": [
    {
     "data": {
      "text/plain": [
       "(10422, 25)"
      ]
     },
     "execution_count": 5,
     "metadata": {},
     "output_type": "execute_result"
    }
   ],
   "source": [
    "dfjj = dfjj.drop(columns=['zip_cd','year_month'])\n",
    "\n",
    "#size 확인\n",
    "dfjj.shape"
   ]
  },
  {
   "cell_type": "markdown",
   "metadata": {},
   "source": [
    "* 고객군별 평균 연 소득(avg_income)과 3개월 평균 카드 사용데이터(avg_spend)를 이용하여 <br>가계수지를 계산한다."
   ]
  },
  {
   "cell_type": "code",
   "execution_count": 6,
   "metadata": {},
   "outputs": [],
   "source": [
    "# Household Index 계산을 위해 dfhi를 생성한다. \n",
    "dfhi=dfjj.loc[:,['x_axis','y_axis','avg_income','avg_spend']]"
   ]
  },
  {
   "cell_type": "markdown",
   "metadata": {},
   "source": [
    "통계청의 2014년 가계동향조사와 가계금융복지조사를 기초 자료로 삼아<br> 주소현(이화여대), 차경욱(성신여대), 김민정(충북대), 김소연(서울대) 교수가 참여한 2014년 한국 가계모형 연구에 의하면<br> 일반적으로 가계수지 70%을 준거로 삼아 소비성향과 적자여부를 판단한다.<br>\n",
    "[참고링크 : http://www.fpkorea.com/2014/kfpa_2015/sub/print.asp?p_bm_key=194&p_bd_key=13068 ]\n",
    "* 위 기준을 참고하여 0~0.7, 0.7~1.0 , 1.0 이상 세 구간으로 분류하였다.  "
   ]
  },
  {
   "cell_type": "code",
   "execution_count": 7,
   "metadata": {},
   "outputs": [],
   "source": [
    "hi = dfhi.avg_spend / ( dfhi.avg_income/12 + 1 ) # Household Income Index\n",
    "dfdef = dfhi[ hi > 1 ].copy() # deficit: 적자상태를 의미 \n",
    "dfdan = dfhi[(hi <= 1) & (hi >= 0.7) ].copy() #danger: 위험군 \n",
    "dfwell = dfhi[(hi >= 0) & (hi < 0.7) ].copy() # managed well"
   ]
  },
  {
   "cell_type": "code",
   "execution_count": 8,
   "metadata": {},
   "outputs": [
    {
     "name": "stdout",
     "output_type": "stream",
     "text": [
      "7570\n",
      "1049\n",
      "1803\n"
     ]
    },
    {
     "data": {
      "text/html": [
       "<div>\n",
       "<style scoped>\n",
       "    .dataframe tbody tr th:only-of-type {\n",
       "        vertical-align: middle;\n",
       "    }\n",
       "\n",
       "    .dataframe tbody tr th {\n",
       "        vertical-align: top;\n",
       "    }\n",
       "\n",
       "    .dataframe thead th {\n",
       "        text-align: right;\n",
       "    }\n",
       "</style>\n",
       "<table border=\"1\" class=\"dataframe\">\n",
       "  <thead>\n",
       "    <tr style=\"text-align: right;\">\n",
       "      <th></th>\n",
       "      <th>x_axis</th>\n",
       "      <th>y_axis</th>\n",
       "      <th>avg_income</th>\n",
       "      <th>avg_spend</th>\n",
       "    </tr>\n",
       "  </thead>\n",
       "  <tbody>\n",
       "    <tr>\n",
       "      <th>2</th>\n",
       "      <td>126.497121</td>\n",
       "      <td>33.247225</td>\n",
       "      <td>32119000</td>\n",
       "      <td>3529667</td>\n",
       "    </tr>\n",
       "    <tr>\n",
       "      <th>4</th>\n",
       "      <td>126.497121</td>\n",
       "      <td>33.247225</td>\n",
       "      <td>29578000</td>\n",
       "      <td>5209689</td>\n",
       "    </tr>\n",
       "    <tr>\n",
       "      <th>5</th>\n",
       "      <td>126.497121</td>\n",
       "      <td>33.247225</td>\n",
       "      <td>35110000</td>\n",
       "      <td>4391377</td>\n",
       "    </tr>\n",
       "    <tr>\n",
       "      <th>7</th>\n",
       "      <td>126.497121</td>\n",
       "      <td>33.247225</td>\n",
       "      <td>62822000</td>\n",
       "      <td>35279651</td>\n",
       "    </tr>\n",
       "    <tr>\n",
       "      <th>8</th>\n",
       "      <td>126.434900</td>\n",
       "      <td>33.260917</td>\n",
       "      <td>42894000</td>\n",
       "      <td>3876721</td>\n",
       "    </tr>\n",
       "  </tbody>\n",
       "</table>\n",
       "</div>"
      ],
      "text/plain": [
       "       x_axis     y_axis  avg_income  avg_spend\n",
       "2  126.497121  33.247225    32119000    3529667\n",
       "4  126.497121  33.247225    29578000    5209689\n",
       "5  126.497121  33.247225    35110000    4391377\n",
       "7  126.497121  33.247225    62822000   35279651\n",
       "8  126.434900  33.260917    42894000    3876721"
      ]
     },
     "execution_count": 8,
     "metadata": {},
     "output_type": "execute_result"
    }
   ],
   "source": [
    "#분포를 수치로 확인\n",
    "print(len(dfdef.index))\n",
    "print(len(dfdan.index))\n",
    "print(len(dfwell.index))\n",
    "\n",
    "dfdef.head(5)"
   ]
  },
  {
   "cell_type": "markdown",
   "metadata": {},
   "source": [
    "* folium 패키지를 이용하여 지도상에 각 구간에 해당하는 표본 그룹을 Marking하여 분포를 확인한다.<br>(적자인 경우 <u>red</u>, 위험군인 경우 <u>yellow</u>, 적정수준인 경우 <u>green</u> 을 icon color로 적용한다)"
   ]
  },
  {
   "cell_type": "code",
   "execution_count": 9,
   "metadata": {},
   "outputs": [],
   "source": [
    "import folium \n",
    "from folium.plugins import MarkerCluster #지도상의 mark들을 clustering해준다."
   ]
  },
  {
   "cell_type": "code",
   "execution_count": 10,
   "metadata": {},
   "outputs": [
    {
     "name": "stderr",
     "output_type": "stream",
     "text": [
      "C:\\Users\\jhbea\\AppData\\Local\\conda\\conda\\envs\\cuda\\lib\\site-packages\\ipykernel_launcher.py:19: UserWarning: color argument of Icon should be one of: {'lightgreen', 'red', 'lightred', 'darkred', 'purple', 'darkblue', 'pink', 'white', 'lightgray', 'blue', 'cadetblue', 'green', 'darkgreen', 'lightblue', 'gray', 'black', 'darkpurple', 'orange', 'beige'}.\n"
     ]
    }
   ],
   "source": [
    "m = folium.Map(\n",
    "    location=[33.362134,126.533345], #한라산 백록담을 지도 좌표의 중심으로 설정하였다.\n",
    "    zoom_start=10.5\n",
    ")\n",
    "# dfdef 추가 \n",
    "for i in range(0,len(dfdef.index)-1):\n",
    "    folium.Marker(\n",
    "        location=[dfdef.iloc[i,1],dfdef.iloc[i,0]] ,\n",
    "        popup='deficit',\n",
    "        icon=folium.Icon(color='red',icon='circle')\n",
    "        \n",
    "    ).add_to(m)\n",
    "    \n",
    "# dfdan 추가   \n",
    "for i in range(0,len(dfdan.index)-1):\n",
    "    folium.Marker(\n",
    "        location=[dfdan.iloc[i,1],dfdan.iloc[i,0]] ,\n",
    "        popup='danger',\n",
    "        icon=folium.Icon(color='orange',icon='circle')\n",
    "        \n",
    "    ).add_to(m)\n",
    "    \n",
    "# dfwell 추가   \n",
    "for i in range(0,len(dfwell.index)-1):\n",
    "    folium.Marker(\n",
    "        location=[dfwell.iloc[i,1],dfwell.iloc[i,0]] ,\n",
    "        popup='managed well',\n",
    "        icon=folium.Icon(color='green',icon='circle')\n",
    "        \n",
    "    ).add_to(m)    \n",
    "    \n",
    "        \n",
    "m.save('indexmap.html')"
   ]
  },
  {
   "cell_type": "code",
   "execution_count": 11,
   "metadata": {},
   "outputs": [],
   "source": [
    "# # 주석을 제거하고 아래 변수를 실행하면 지도를 확인 가능하다\n",
    "# m"
   ]
  },
  {
   "cell_type": "markdown",
   "metadata": {},
   "source": [
    "* 인사이트 도출을 위하여, <br>가계수지지표 기준, 적자 상태인 dfdef만을 지도상에 표시 및 Mark clustering 하여 <br>제주도 내 지역별 분포를 파악한다."
   ]
  },
  {
   "cell_type": "code",
   "execution_count": 12,
   "metadata": {},
   "outputs": [],
   "source": [
    "himap = folium.Map(\n",
    "    location=[33.362134,126.533345], #한라산 백록담의 좌표\n",
    "    zoom_start=10.5\n",
    ")\n",
    "marker_cluster = MarkerCluster().add_to(himap)\n",
    "\n",
    "for i in range(0,len(dfdef.index)-1):\n",
    "    folium.Marker(\n",
    "        location=[dfdef.iloc[i,1],dfdef.iloc[i,0]] ,\n",
    "        popup='deficit',\n",
    "        icon=folium.Icon(color='red',icon='circle')\n",
    "        \n",
    "    ).add_to(marker_cluster)\n",
    "\n",
    "himap.save('defmap.html')    "
   ]
  },
  {
   "cell_type": "markdown",
   "metadata": {},
   "source": [
    "### 지도상에 시각화 된 데이터 확인 전, 가계수지 적자집단의 지역별 분포에 대한 예상\n",
    "* [예상1] 비교적 안정적인 직장을 가졌을 것이라 생각되는 도심지에 비해 ,<br>농/어업 종사자 등 소득이 비교적 불안정하다 생각되는 인구가 많을 동부 와 서부 읍면 지역에 적자집단이 많을 것이다. \n"
   ]
  },
  {
   "cell_type": "code",
   "execution_count": 14,
   "metadata": {},
   "outputs": [],
   "source": [
    "# # 주석을 제거하고 아래 변수를 실행하면 지도를 확인 가능하다\n",
    "#himap"
   ]
  },
  {
   "cell_type": "markdown",
   "metadata": {},
   "source": [
    "#### 가계수지지표 적자집단 분포지도를 통해 확인한 사실\n",
    "* 가계지표가 적자인 집단은 제주시에 집중되어 있다.( 약 62% =4662/7570 )<br>서귀포시 역시 약 12%(889/7570) 를 차지 하여<br>실제 데이터에서 [예상1] 이 틀렸음을 확인하였다. \n",
    "<br><br><br><br>"
   ]
  },
  {
   "cell_type": "markdown",
   "metadata": {},
   "source": [
    "* 위 사실에 기반하여 추론해 볼 때 도심지 주민들의 경우 대출의 규모가 다른 지역에 비해 클 것으로 예상할 수 있다. \n",
    "* 대출규모 상위 30%의 분포를 지도 상으로 확인해 본다."
   ]
  },
  {
   "cell_type": "code",
   "execution_count": 41,
   "metadata": {},
   "outputs": [],
   "source": [
    "dfdebt=dfjj.sort_values(by='avg_debt',ascending=False)\n",
    "dfdebt=dfdebt.iloc[:3000,[0,1]]\n",
    "debtmap = folium.Map(\n",
    "    location=[33.362134,126.533345], #한라산 백록담의 좌표\n",
    "    zoom_start=10.5\n",
    ")\n",
    "marker_cluster = MarkerCluster().add_to(debtmap)\n",
    "\n",
    "for i in range(0,len(dfdebt.index)-1):\n",
    "    folium.Marker(\n",
    "        location=[dfdebt.iloc[i,1],dfdebt.iloc[i,0]] ,\n",
    "        popup='debt30%',\n",
    "        icon=folium.Icon(color='red',icon='circle')\n",
    "        \n",
    "    ).add_to(marker_cluster)\n",
    "\n",
    "debtmap.save('debtmap.html') "
   ]
  },
  {
   "cell_type": "code",
   "execution_count": 43,
   "metadata": {},
   "outputs": [],
   "source": [
    "##지도 상에서 부채규모 상위 30% 인 집단의 분포를 확인 할 수 있다.\n",
    "#debtmap"
   ]
  },
  {
   "cell_type": "markdown",
   "metadata": {},
   "source": [
    "* 제주시 및 서귀포시 도심지에 부채규모 상위 30%인 집단 중 약 57%가 분포되어 있음을 확인하였다."
   ]
  },
  {
   "cell_type": "markdown",
   "metadata": {},
   "source": [
    "### <b>일반적으로 추측할 수 있는 가설을 실제 데이터와 비교해 봄으로써 인사이트를 도출 해 본다.</b>\n",
    "#### 지출이 소득을 초과하는 경우 ( 위 지도 상에 clustering된 데이터)는, \n",
    "1. (age, 나이 변수) 소득보다는 자녀로 부터 재정지원을 받을 가능성이 높은 65세 이상 고령인구의 비율이 높을 것이다. <br><br><br>\n",
    "2. (직업, job 변수) 안정적이고 고소득을 받는 대기업/공기업 종사자의 비율은 낮을 것이며, <br> 주부 및 학생 비율이 높을 수록 가계수지가 높을 것이다.\n",
    "3. (부채, debt 변수) '소득을 초과한 지출(hi>1)'을 위해서는 자금조달이 필요하기에 대출을 받는 비율과 규모가 [hi < 0.5] 인 집단보다 높을 것이다.\n",
    "<br>"
   ]
  },
  {
   "cell_type": "markdown",
   "metadata": {},
   "source": [
    "### 가설1의 확인을 위해 가계수지 적자집단의  연령 구성 비율을 파악한다."
   ]
  },
  {
   "cell_type": "code",
   "execution_count": 25,
   "metadata": {},
   "outputs": [
    {
     "name": "stdout",
     "output_type": "stream",
     "text": [
      "633 3943 2994\n"
     ]
    }
   ],
   "source": [
    "# 연령대를 구분하여 고령인구의 비율을 파악한다.\n",
    "dfover1 = dfjj[ hi > 1 ].copy() # 가계수지지표가 1을 초과하는 집단.(=가계수지 적자인 집단.)\n",
    "df_old = dfover1[dfover1.age > 65] #인구통계상 65세를 고령기준으로 삼는다.(통계청)\n",
    "df_mid = dfover1[(dfover1.age > 40) & (dfover1.age < 65)]\n",
    "df_young = dfover1[dfover1.age < 40]\n",
    "o,m,y = len(df_old.index),len(df_mid.index),len(df_young.index)\n",
    "print(o,m,y)"
   ]
  },
  {
   "cell_type": "code",
   "execution_count": 26,
   "metadata": {},
   "outputs": [
    {
     "data": {
      "image/png": "[encoded data removed]",
      "text/plain": [
       "<Figure size 360x360 with 1 Axes>"
      ]
     },
     "metadata": {},
     "output_type": "display_data"
    }
   ],
   "source": [
    "#각 연령의 비율을 시각화한다. \n",
    "dfage = pd.DataFrame({'age_rat': [o, m , y]}, index=['old', 'middle', 'young'])\n",
    "plot = dfage.plot.pie(y='age_rat', figsize=(5, 5))"
   ]
  },
  {
   "cell_type": "markdown",
   "metadata": {},
   "source": [
    "* 기존의 지식만으로 예상한 가설1 과는 반대로, <br> 실제 데이터에서 고령 인구가 차지하는 비율은 전체의 10% 미만이었다.\n",
    "* [2017년 주민등록인구통계 보고서]를 참고하여 예상과는 다른 결과를 보인 원인을 분석한 결과,<br> 전체 인구 중 65세 이상 고령인구가 차지하는 비중이 13.2%에 그치며 제주도 인구의 연령구성에 의한 영향이 존재함을 알 수 있었다. <br><br>\n",
    "* [인사이트] 이와 관련하여 2017년을 기준으로 전국 노령화지수와 제주도의 노령화지수를 비교한 결과,<br>제주특별자치도의 경우는 전체 인구구성 중 노령화지수가 <u>92.2</u>로 전국 기준 노령화지수인 <u>107.7</u>에 비해 현저히 낮음을 확인하였다.<br> -> 제주도의 경우 연령구성비율이 내륙과 차이가 있으며, 생산가능인구의 비율이 높은 비교적 '젊은' 지역임을 알 수 있다."
   ]
  },
  {
   "cell_type": "markdown",
   "metadata": {},
   "source": [
    "### 가설2의 확인을 위해 각 직업군 별 구성비율과 가계수지지표사이의 상관관계를 파악해본다.????????????<br><br><br><br><"
   ]
  },
  {
   "cell_type": "markdown",
   "metadata": {},
   "source": [
    "### 결론 "
   ]
  },
  {
   "cell_type": "markdown",
   "metadata": {},
   "source": [
    "* 이곳에 도출한 인사이트를 정리한다. \n",
    "* 이를 활용할 수 있는 서비스, 연구주제 등 application을 제시한다."
   ]
  },
  {
   "cell_type": "markdown",
   "metadata": {},
   "source": [
    "### [참고자료]\n",
    "* 제주특별자치도 통계자료 : https://www.jeju.go.kr/open/stats/list/grdp.htm?act=view&seq=1161716\n",
    "* 서귀포시 통계자료 : 2017년 주민등록인구통계 보고서 , https://www.seogwipo.go.kr/info/stats/resident.htm?act=download&seq...no=1\n"
   ]
  },
  {
   "cell_type": "code",
   "execution_count": null,
   "metadata": {},
   "outputs": [],
   "source": []
  }
 ],
 "metadata": {
  "kernelspec": {
   "display_name": "cuda",
   "language": "python",
   "name": "cuda"
  },
  "language_info": {
   "codemirror_mode": {
    "name": "ipython",
    "version": 3
   },
   "file_extension": ".py",
   "mimetype": "text/x-python",
   "name": "python",
   "nbconvert_exporter": "python",
   "pygments_lexer": "ipython3",
   "version": "3.6.8"
  }
 },
 "nbformat": 4,
 "nbformat_minor": 2
}
